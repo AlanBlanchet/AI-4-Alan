{
 "cells": [
  {
   "cell_type": "code",
   "execution_count": null,
   "metadata": {},
   "outputs": [],
   "source": [
    "from ai.rl.collect.collector import Collector\n",
    "from ai.rl.models.drqn import DRQN\n",
    "from ai.rl.trainer import Trainer\n",
    "from ai.rl.utils.hyperparam import Hyperparam\n",
    "\n",
    "%reload_ext autoreload\n",
    "%autoreload 2"
   ]
  },
  {
   "cell_type": "code",
   "execution_count": null,
   "metadata": {},
   "outputs": [],
   "source": [
    "collector = Collector(\"ALE/Breakout-v5\", epsilon=Hyperparam(0.8, 0.1, steps=4000), buffer_size=2000)\n",
    "agent = DRQN(collector, lr=0.0001, batch_size=64, image_type=\"grayscale\")\n",
    "trainer = Trainer(agent, reward_agg=\"sum\")"
   ]
  },
  {
   "cell_type": "code",
   "execution_count": null,
   "metadata": {},
   "outputs": [],
   "source": [
    "trainer.train(10)"
   ]
  },
  {
   "cell_type": "code",
   "execution_count": null,
   "metadata": {},
   "outputs": [],
   "source": [
    "trainer.save(\"rdqn-breakout-v5-grayscale\")"
   ]
  }
 ],
 "metadata": {
  "kernelspec": {
   "display_name": "ai-4-alan-3pcBkBoY-py3.11",
   "language": "python",
   "name": "python3"
  },
  "language_info": {
   "codemirror_mode": {
    "name": "ipython",
    "version": 3
   },
   "file_extension": ".py",
   "mimetype": "text/x-python",
   "name": "python",
   "nbconvert_exporter": "python",
   "pygments_lexer": "ipython3",
   "version": "3.11.6"
  }
 },
 "nbformat": 4,
 "nbformat_minor": 2
}
