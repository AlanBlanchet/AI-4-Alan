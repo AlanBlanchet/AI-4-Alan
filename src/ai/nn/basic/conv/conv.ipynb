{
 "cells": [
  {
   "cell_type": "code",
   "execution_count": 1,
   "metadata": {},
   "outputs": [],
   "source": [
    "import torch\n",
    "\n",
    "from ai.nn.basic.conv import Conv1d\n",
    "\n",
    "%reload_ext autoreload\n",
    "%autoreload 2"
   ]
  },
  {
   "cell_type": "code",
   "execution_count": 39,
   "metadata": {},
   "outputs": [
    {
     "name": "stdout",
     "output_type": "stream",
     "text": [
      "tensor([  1, 209, 156,  ...,   0,   0,   0], dtype=torch.uint8)\n"
     ]
    },
    {
     "data": {
      "text/plain": [
       "tensor([[ 0.2301,  0.8128,  0.0711,  0.3979,  0.2897],\n",
       "        [-0.6670,  0.4763, -0.0920, -0.1366,  0.5543],\n",
       "        [ 0.4205,  0.4657, -0.8756,  0.9926, -0.6384],\n",
       "        [-0.0544, -0.5915, -0.5639,  0.1101, -0.6317]], grad_fn=<CopySlices>)"
      ]
     },
     "execution_count": 39,
     "metadata": {},
     "output_type": "execute_result"
    }
   ],
   "source": [
    "conv = Conv1d(1, 4, padding=1)\n",
    "gen = torch.Generator().get_state()\n",
    "torch.random.set_rng_state(gen)\n",
    "x = torch.randn(5).unsqueeze(dim=0)\n",
    "conv(x)"
   ]
  },
  {
   "cell_type": "code",
   "execution_count": 40,
   "metadata": {},
   "outputs": [
    {
     "name": "stdout",
     "output_type": "stream",
     "text": [
      "tensor([  1, 209, 156,  ...,   0,   0,   0], dtype=torch.uint8)\n"
     ]
    },
    {
     "data": {
      "text/plain": [
       "tensor([[-0.2775, -0.4841, -0.1955, -0.0106, -0.0649],\n",
       "        [ 0.6940,  0.0820,  0.4225,  0.1150, -0.1056],\n",
       "        [ 0.1716,  0.5542, -0.1286,  0.0753, -0.1352],\n",
       "        [-0.3984, -0.1517,  0.0753, -0.1114,  0.3592]],\n",
       "       grad_fn=<SqueezeBackward1>)"
      ]
     },
     "execution_count": 40,
     "metadata": {},
     "output_type": "execute_result"
    }
   ],
   "source": [
    "conv = torch.nn.Conv1d(1, 4, 3, padding=1)\n",
    "torch.random.set_rng_state(gen)\n",
    "conv(x)"
   ]
  }
 ],
 "metadata": {
  "kernelspec": {
   "display_name": "ai-4-alan-3pcBkBoY-py3.11",
   "language": "python",
   "name": "python3"
  },
  "language_info": {
   "codemirror_mode": {
    "name": "ipython",
    "version": 3
   },
   "file_extension": ".py",
   "mimetype": "text/x-python",
   "name": "python",
   "nbconvert_exporter": "python",
   "pygments_lexer": "ipython3",
   "version": "3.11.6"
  }
 },
 "nbformat": 4,
 "nbformat_minor": 2
}
